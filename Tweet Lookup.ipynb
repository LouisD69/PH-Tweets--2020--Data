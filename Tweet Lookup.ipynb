{
 "cells": [
  {
   "cell_type": "code",
   "execution_count": 1,
   "metadata": {},
   "outputs": [],
   "source": [
    "# you have to install twarc if you havent\n",
    "# pip install --upgrade twarc (i did it through cmd)\n",
    "\n",
    "from twarc import Twarc2, expansions\n",
    "from os import listdir\n",
    "from os.path import isfile, join\n",
    "from pprint import pprint\n",
    "\n",
    "import pandas as pd\n",
    "import concurrent.futures\n",
    "import json\n",
    "import csv\n",
    "import re\n",
    "\n",
    "TWEET_IDS_FOLDER_PATH = \"./TweetIds/\"\n",
    "OUTPUT_FOLDER_PATH = \"./Output/\"\n",
    "BEARER_TOKEN = \"AAAAAAAAAAAAAAAAAAAAAIL%2BUQEAAAAA8D63uvPE1VQ1JhYekfOspWUpASE%3DAPe0SIYzJTyfHbUDHB627CHZAKurxidbGo0EqviSS0gi0dUySE\""
   ]
  },
  {
   "cell_type": "code",
   "execution_count": 2,
   "metadata": {},
   "outputs": [],
   "source": [
    "def loadTweetIds(start_range, end_range, path=TWEET_IDS_FOLDER_PATH):\n",
    "        print(\"Loading tweet IDs...\")\n",
    "\n",
    "        full_list = [f for f in listdir(path) if isfile(join(path, f)) and f[-4:] == \".csv\"]\n",
    "        file_names = full_list[start_range:end_range]\n",
    "        temp_list = []\n",
    "        count = 0\n",
    "        for file_name in file_names:\n",
    "            print(file_name)\n",
    "            temp_list += pd.read_csv(\n",
    "                path + file_name,\n",
    "                index_col=False,\n",
    "                header=0,\n",
    "                squeeze = True,\n",
    "                lineterminator='\\n').to_list()\n",
    "\n",
    "            count += 1\n",
    "            progress = count / len(file_names) * 100\n",
    "            print(\"Progress: %.2f%%\" % progress)\n",
    "\n",
    "        print(\"%d tweet IDs have been loaded into memory.\" % len(temp_list))\n",
    "\n",
    "        return temp_list\n",
    "\n",
    "def initializeClient():\n",
    "    return Twarc2(bearer_token=BEARER_TOKEN)"
   ]
  },
  {
   "cell_type": "code",
   "execution_count": 3,
   "metadata": {},
   "outputs": [
    {
     "name": "stdout",
     "output_type": "stream",
     "text": [
      "Loading tweet IDs...\n",
      "tweet_ids_3.csv\n",
      "Progress: 100.00%\n",
      "1000000 tweet IDs have been loaded into memory.\n"
     ]
    }
   ],
   "source": [
    "# Load tweetids from csv\n",
    "# 12, 13 is file 3 (mali kasi yung order sa folder)\n",
    "# 0, 1, 10, 11, ..., 2, 3, 4, ....\n",
    "start = 12\n",
    "end = 13\n",
    "filename = 'tweets3utf8.csv' # ngayon palang, iset mo na yung file name\n",
    "tweet_ids = loadTweetIds(start,end)"
   ]
  },
  {
   "cell_type": "code",
   "execution_count": 4,
   "metadata": {},
   "outputs": [],
   "source": [
    "# tweet_ids.sort(reverse=True)\n",
    "# for i in range(0, 33):\n",
    "#     tweet_ids.pop(0)\n",
    "# tweet_ids.sort()\n",
    "# for i in range(0, 40):\n",
    "#     tweet_ids.pop(0)\n",
    "# df = pd.DataFrame(tweet_ids).reset_index(drop=True)\n",
    "# df.to_csv('tweet_id_1_clean.csv', index=False)"
   ]
  },
  {
   "cell_type": "code",
   "execution_count": 5,
   "metadata": {},
   "outputs": [
    {
     "name": "stderr",
     "output_type": "stream",
     "text": [
      "rate limit exceeded: sleeping 104.08223176002502 secs\n",
      "rate limit exceeded: sleeping 110.98654580116272 secs\n",
      "rate limit exceeded: sleeping 109.67781662940979 secs\n",
      "rate limit exceeded: sleeping 116.29285883903503 secs\n",
      "rate limit exceeded: sleeping 107.45628571510315 secs\n",
      "rate limit exceeded: sleeping 114.1849935054779 secs\n",
      "rate limit exceeded: sleeping 109.43475389480591 secs\n",
      "rate limit exceeded: sleeping 116.428626537323 secs\n",
      "rate limit exceeded: sleeping 109.00942087173462 secs\n",
      "rate limit exceeded: sleeping 114.10310125350952 secs\n",
      "rate limit exceeded: sleeping 112.4441225528717 secs\n"
     ]
    },
    {
     "name": "stdout",
     "output_type": "stream",
     "text": [
      "Wall time: 2h 48min 19s\n"
     ]
    }
   ],
   "source": [
    "%%time\n",
    "# Readying the Twitter client to interface\n",
    "# Note:\n",
    "client = initializeClient()\n",
    "lookup = client.tweet_lookup(tweet_ids=tweet_ids[:1000000])\n",
    "\n",
    "# Here is where all results are placed. Kindly modify this\n",
    "# so that you can save the tweets to your own machine. In its\n",
    "# current form, this simply takes all tweets and saves some \n",
    "# information to a tweet\n",
    "tweets = []\n",
    "\n",
    "for page in lookup:\n",
    "    # This returns a list of tweets\n",
    "    result = expansions.flatten(page)\n",
    "    # For each tweet that was found, add it to a list. For\n",
    "    # this example, I'm only taking the text and when the tweet\n",
    "    # was created at.\n",
    "    for tweet in result:\n",
    "        tweets.append({\n",
    "                'text': tweet['text'],\n",
    "                'date': tweet['created_at'],\n",
    "                'lang': tweet['lang'],\n",
    "                'author': tweet['author_id']\n",
    "            })\n",
    "    \n",
    "tweets_df = pd.DataFrame.from_dict(tweets)"
   ]
  },
  {
   "cell_type": "code",
   "execution_count": 6,
   "metadata": {
    "scrolled": true
   },
   "outputs": [
    {
     "data": {
      "text/plain": [
       "552858"
      ]
     },
     "execution_count": 6,
     "metadata": {},
     "output_type": "execute_result"
    }
   ],
   "source": [
    "len(tweets_df)"
   ]
  },
  {
   "cell_type": "code",
   "execution_count": 7,
   "metadata": {},
   "outputs": [
    {
     "data": {
      "text/html": [
       "<div>\n",
       "<style scoped>\n",
       "    .dataframe tbody tr th:only-of-type {\n",
       "        vertical-align: middle;\n",
       "    }\n",
       "\n",
       "    .dataframe tbody tr th {\n",
       "        vertical-align: top;\n",
       "    }\n",
       "\n",
       "    .dataframe thead th {\n",
       "        text-align: right;\n",
       "    }\n",
       "</style>\n",
       "<table border=\"1\" class=\"dataframe\">\n",
       "  <thead>\n",
       "    <tr style=\"text-align: right;\">\n",
       "      <th></th>\n",
       "      <th>text</th>\n",
       "      <th>date</th>\n",
       "      <th>lang</th>\n",
       "      <th>author</th>\n",
       "    </tr>\n",
       "  </thead>\n",
       "  <tbody>\n",
       "    <tr>\n",
       "      <th>0</th>\n",
       "      <td>download lang nang download lang nang download...</td>\n",
       "      <td>2020-04-08T01:37:02.000Z</td>\n",
       "      <td>tl</td>\n",
       "      <td>3310177483</td>\n",
       "    </tr>\n",
       "    <tr>\n",
       "      <th>1</th>\n",
       "      <td>beberexha asking txt for a collab yaaaaaaaz</td>\n",
       "      <td>2020-04-08T01:37:03.000Z</td>\n",
       "      <td>en</td>\n",
       "      <td>1906684830</td>\n",
       "    </tr>\n",
       "    <tr>\n",
       "      <th>2</th>\n",
       "      <td>We all deserve 24 hours jowa challenge after q...</td>\n",
       "      <td>2020-04-08T01:37:03.000Z</td>\n",
       "      <td>en</td>\n",
       "      <td>1016671628229349376</td>\n",
       "    </tr>\n",
       "    <tr>\n",
       "      <th>3</th>\n",
       "      <td>new username: 👆🏻</td>\n",
       "      <td>2020-04-08T01:37:03.000Z</td>\n",
       "      <td>en</td>\n",
       "      <td>335193954</td>\n",
       "    </tr>\n",
       "    <tr>\n",
       "      <th>4</th>\n",
       "      <td>Yoko na mag puyat .last na yun</td>\n",
       "      <td>2020-04-08T01:37:04.000Z</td>\n",
       "      <td>tl</td>\n",
       "      <td>3062232246</td>\n",
       "    </tr>\n",
       "  </tbody>\n",
       "</table>\n",
       "</div>"
      ],
      "text/plain": [
       "                                                text  \\\n",
       "0  download lang nang download lang nang download...   \n",
       "1        beberexha asking txt for a collab yaaaaaaaz   \n",
       "2  We all deserve 24 hours jowa challenge after q...   \n",
       "3                                   new username: 👆🏻   \n",
       "4                     Yoko na mag puyat .last na yun   \n",
       "\n",
       "                       date lang               author  \n",
       "0  2020-04-08T01:37:02.000Z   tl           3310177483  \n",
       "1  2020-04-08T01:37:03.000Z   en           1906684830  \n",
       "2  2020-04-08T01:37:03.000Z   en  1016671628229349376  \n",
       "3  2020-04-08T01:37:03.000Z   en            335193954  \n",
       "4  2020-04-08T01:37:04.000Z   tl           3062232246  "
      ]
     },
     "execution_count": 7,
     "metadata": {},
     "output_type": "execute_result"
    }
   ],
   "source": [
    "tweets_df.head()"
   ]
  },
  {
   "cell_type": "code",
   "execution_count": 8,
   "metadata": {},
   "outputs": [
    {
     "name": "stdout",
     "output_type": "stream",
     "text": [
      "Wall time: 2.63 s\n"
     ]
    }
   ],
   "source": [
    "%%time\n",
    "tweets_df.to_csv(filename, encoding='utf-8', quoting=csv.QUOTE_ALL)\n",
    "# save raw dataset to csv"
   ]
  },
  {
   "cell_type": "code",
   "execution_count": 9,
   "metadata": {
    "scrolled": true
   },
   "outputs": [
    {
     "data": {
      "text/html": [
       "<div>\n",
       "<style scoped>\n",
       "    .dataframe tbody tr th:only-of-type {\n",
       "        vertical-align: middle;\n",
       "    }\n",
       "\n",
       "    .dataframe tbody tr th {\n",
       "        vertical-align: top;\n",
       "    }\n",
       "\n",
       "    .dataframe thead th {\n",
       "        text-align: right;\n",
       "    }\n",
       "</style>\n",
       "<table border=\"1\" class=\"dataframe\">\n",
       "  <thead>\n",
       "    <tr style=\"text-align: right;\">\n",
       "      <th></th>\n",
       "      <th>text</th>\n",
       "      <th>date</th>\n",
       "      <th>lang</th>\n",
       "      <th>author</th>\n",
       "    </tr>\n",
       "  </thead>\n",
       "  <tbody>\n",
       "    <tr>\n",
       "      <th>0</th>\n",
       "      <td>download lang nang download lang nang download...</td>\n",
       "      <td>2020-04-08T01:37:02.000Z</td>\n",
       "      <td>tl</td>\n",
       "      <td>3310177483</td>\n",
       "    </tr>\n",
       "    <tr>\n",
       "      <th>1</th>\n",
       "      <td>beberexha asking txt for a collab yaaaaaaaz</td>\n",
       "      <td>2020-04-08T01:37:03.000Z</td>\n",
       "      <td>en</td>\n",
       "      <td>1906684830</td>\n",
       "    </tr>\n",
       "    <tr>\n",
       "      <th>2</th>\n",
       "      <td>We all deserve 24 hours jowa challenge after q...</td>\n",
       "      <td>2020-04-08T01:37:03.000Z</td>\n",
       "      <td>en</td>\n",
       "      <td>1016671628229349376</td>\n",
       "    </tr>\n",
       "    <tr>\n",
       "      <th>3</th>\n",
       "      <td>new username: 👆🏻</td>\n",
       "      <td>2020-04-08T01:37:03.000Z</td>\n",
       "      <td>en</td>\n",
       "      <td>335193954</td>\n",
       "    </tr>\n",
       "    <tr>\n",
       "      <th>4</th>\n",
       "      <td>Yoko na mag puyat .last na yun</td>\n",
       "      <td>2020-04-08T01:37:04.000Z</td>\n",
       "      <td>tl</td>\n",
       "      <td>3062232246</td>\n",
       "    </tr>\n",
       "  </tbody>\n",
       "</table>\n",
       "</div>"
      ],
      "text/plain": [
       "                                                text  \\\n",
       "0  download lang nang download lang nang download...   \n",
       "1        beberexha asking txt for a collab yaaaaaaaz   \n",
       "2  We all deserve 24 hours jowa challenge after q...   \n",
       "3                                   new username: 👆🏻   \n",
       "4                     Yoko na mag puyat .last na yun   \n",
       "\n",
       "                       date lang               author  \n",
       "0  2020-04-08T01:37:02.000Z   tl           3310177483  \n",
       "1  2020-04-08T01:37:03.000Z   en           1906684830  \n",
       "2  2020-04-08T01:37:03.000Z   en  1016671628229349376  \n",
       "3  2020-04-08T01:37:03.000Z   en            335193954  \n",
       "4  2020-04-08T01:37:04.000Z   tl           3062232246  "
      ]
     },
     "execution_count": 9,
     "metadata": {},
     "output_type": "execute_result"
    }
   ],
   "source": [
    "# check if you can read properly the new csv\n",
    "\n",
    "#fn = 'tweets1.csv'\n",
    "temp_df = pd.read_csv(filename, index_col=0)\n",
    "temp_df.head()"
   ]
  },
  {
   "cell_type": "code",
   "execution_count": 10,
   "metadata": {},
   "outputs": [],
   "source": [
    "# def single_thread(pages, start, end):\n",
    "#     tweets = []\n",
    "#     for x in range(start, end):\n",
    "#         result = expansions.flatten(pages[x])\n",
    "#         for tweet in result:\n",
    "#             tweets.append({\n",
    "#                     'text': tweet['text'],\n",
    "#                     'date': tweet['created_at'],\n",
    "#                     'lang': tweet['lang'],\n",
    "#                     'author': tweet['author_id']\n",
    "#                 })\n",
    "            \n",
    "#     return tweets"
   ]
  },
  {
   "cell_type": "code",
   "execution_count": 11,
   "metadata": {},
   "outputs": [],
   "source": [
    "# %%time\n",
    "\n",
    "# start = 12\n",
    "# end = 13\n",
    "# tweet_ids = loadTweetIds(start,end)\n",
    "    \n",
    "# # Readying the Twitter client to interface\n",
    "# # Note:\n",
    "# client = initializeClient()\n",
    "# lookup = client.tweet_lookup(tweet_ids=tweet_ids[:10000])\n",
    "\n",
    "# pages = []\n",
    "# for page in lookup:\n",
    "#     pages.append(page)\n",
    "\n",
    "# start = 0\n",
    "# num_total = len(pages)\n",
    "# workers = 4\n",
    "\n",
    "# excess = num_total % workers \n",
    "# split = int(num_total / workers)\n",
    "# ranges = []\n",
    "\n",
    "# for x in range(0, workers):\n",
    "#     if excess > 0:\n",
    "#         end = start + split + 1\n",
    "#         excess -= 1\n",
    "#     else:\n",
    "#         end = start + split\n",
    "    \n",
    "#     ranges.append([start, end])\n",
    "#     start = end\n",
    "\n",
    "# with concurrent.futures.ThreadPoolExecutor(max_workers = workers) as executor:\n",
    "#     tweet_segments = executor.map(lambda arg_set : single_thread(pages, *arg_set), ranges)\n",
    "\n",
    "# tweets = []\n",
    "\n",
    "# for ts in tweet_segments:\n",
    "#     tweets = tweets + ts\n",
    "    \n",
    "# tweets_df = pd.DataFrame.from_dict(tweets)"
   ]
  },
  {
   "cell_type": "code",
   "execution_count": null,
   "metadata": {},
   "outputs": [],
   "source": []
  }
 ],
 "metadata": {
  "kernelspec": {
   "display_name": "Python 3",
   "language": "python",
   "name": "python3"
  },
  "language_info": {
   "codemirror_mode": {
    "name": "ipython",
    "version": 3
   },
   "file_extension": ".py",
   "mimetype": "text/x-python",
   "name": "python",
   "nbconvert_exporter": "python",
   "pygments_lexer": "ipython3",
   "version": "3.8.5"
  }
 },
 "nbformat": 4,
 "nbformat_minor": 4
}
